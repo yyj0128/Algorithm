{
  "nbformat": 4,
  "nbformat_minor": 0,
  "metadata": {
    "colab": {
      "name": "3460_이진수.ipynb",
      "provenance": [],
      "collapsed_sections": [],
      "authorship_tag": "ABX9TyNRRI51MulD3FBeX/9dmY8D",
      "include_colab_link": true
    },
    "kernelspec": {
      "name": "python3",
      "display_name": "Python 3"
    },
    "language_info": {
      "name": "python"
    }
  },
  "cells": [
    {
      "cell_type": "markdown",
      "metadata": {
        "id": "view-in-github",
        "colab_type": "text"
      },
      "source": [
        "<a href=\"https://colab.research.google.com/github/yyj0128/Algorithm/blob/main/3460_%EC%9D%B4%EC%A7%84%EC%88%98.ipynb\" target=\"_parent\"><img src=\"https://colab.research.google.com/assets/colab-badge.svg\" alt=\"Open In Colab\"/></a>"
      ]
    },
    {
      "cell_type": "markdown",
      "source": [
        "## &#128204;[문제 3460. 이진수](https://www.acmicpc.net/problem/3460)\n",
        "알고리즘 분류 : 수학, 구현"
      ],
      "metadata": {
        "id": "-w4Hu7uD0Bc9"
      }
    },
    {
      "cell_type": "code",
      "execution_count": 1,
      "metadata": {
        "colab": {
          "base_uri": "https://localhost:8080/"
        },
        "id": "z3kKraFWzreY",
        "outputId": "fae9c645-93ae-487d-f002-3eb7ae80075d"
      },
      "outputs": [
        {
          "output_type": "stream",
          "name": "stdout",
          "text": [
            "1\n",
            "13\n",
            "0 2 3 "
          ]
        }
      ],
      "source": [
        "# 이진수 변환함수(bin) 이용\n",
        "# 최하위 비트의 위치가 0이므로 문자열 인덱스 거꾸로 뒤집어서 생각\n",
        "\n",
        "T = int(input())\n",
        "\n",
        "for _ in range(T):\n",
        "  N = bin(int(input()))[2:]\n",
        "\n",
        "  for i in range(len(N)):\n",
        "    if N[::-1][i] == '1':\n",
        "      print(i, end=' ')"
      ]
    }
  ]
}