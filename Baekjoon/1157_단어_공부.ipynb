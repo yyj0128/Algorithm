{
  "nbformat": 4,
  "nbformat_minor": 0,
  "metadata": {
    "colab": {
      "name": "1157_단어 공부",
      "provenance": [],
      "collapsed_sections": [],
      "authorship_tag": "ABX9TyNyN2dEQrWUmEZgl/YzK3GB",
      "include_colab_link": true
    },
    "kernelspec": {
      "name": "python3",
      "display_name": "Python 3"
    },
    "language_info": {
      "name": "python"
    }
  },
  "cells": [
    {
      "cell_type": "markdown",
      "metadata": {
        "id": "view-in-github",
        "colab_type": "text"
      },
      "source": [
        "<a href=\"https://colab.research.google.com/github/yyj0128/Algorithm/blob/main/1157_%EB%8B%A8%EC%96%B4_%EA%B3%B5%EB%B6%80.ipynb\" target=\"_parent\"><img src=\"https://colab.research.google.com/assets/colab-badge.svg\" alt=\"Open In Colab\"/></a>"
      ]
    },
    {
      "cell_type": "markdown",
      "source": [
        "\n",
        "### &#128204;[문제1157.단어 공부](https://www.acmicpc.net/problem/1157)\n",
        "\n",
        "<br>\n",
        "\n",
        "\n",
        "\n",
        "문제) 알파벳 대소문자로 된 단어가 주어지면, 이 단어에서 가장 많이 사용된 알파벳이 무엇인지 알아내는 프로그램을 작성하시오. 단, 대문자와 소문자를 구분하지 않는다.\n",
        "\n",
        "<br>\n",
        "\n",
        "입력) 첫째 줄에 알파벳 대소문자로 이루어진 단어가 주어진다. 주어지는 단어의 길이는 1,000,000을 넘지 않는다.\n",
        "\n",
        "출력) 첫째 줄에 이 단어에서 가장 많이 사용된 알파벳을 대문자로 출력한다. 단, 가장 많이 사용된 알파벳이 여러 개 존재하는 경우에는 ?를 출력한다.\n",
        "\n",
        "\n",
        "\n"
      ],
      "metadata": {
        "id": "yH4WJMxpKsSi"
      }
    },
    {
      "cell_type": "markdown",
      "source": [
        "> 내가 푼 방법 (시간초과)"
      ],
      "metadata": {
        "id": "PrGLAp4PdfOI"
      }
    },
    {
      "cell_type": "code",
      "source": [
        "word = input().upper()    # 입력 문자열 모두 대문자로 변환 \n",
        "\n",
        "cnt = [word.count(i) for i in word]      # 문자열의 각 알파벳의 갯수를 cnt 리스트에 담음\n",
        "\n",
        "if cnt.count(max(cnt)) > max(cnt):       # 가장 많이 사용된 알파벳이 여러개일 때\n",
        "  print('?')   \n",
        "else:                                    # 가장 많이 사용된 알파벳이 한개일 때\n",
        "  print(word[cnt.index((max(cnt)))])     # 해당 알파벳(대문자) 출력\n"
      ],
      "metadata": {
        "colab": {
          "base_uri": "https://localhost:8080/"
        },
        "id": "hc7oJrNCdeeH",
        "outputId": "42699765-14db-41ec-8a5a-475df00c2415"
      },
      "execution_count": 1,
      "outputs": [
        {
          "output_type": "stream",
          "name": "stdout",
          "text": [
            "mississipi\n",
            "?\n"
          ]
        }
      ]
    },
    {
      "cell_type": "markdown",
      "source": [
        "* 리스트.count(특정 값) : 리스트에서 특정 값의 갯수 반환\n",
        "* 리스트.index(특정 값) : 리스트에서 특정 값의 위치 반환"
      ],
      "metadata": {
        "id": "WXfRee5SdhOk"
      }
    },
    {
      "cell_type": "markdown",
      "source": [
        "> 다른 방법\n",
        "\n",
        "위의 방법은 시간초과가 나서 set() 함수로 알파벳의 중복을 먼저 제거하는 과정을 추가하였다"
      ],
      "metadata": {
        "id": "gEcGmTQQdnSI"
      }
    },
    {
      "cell_type": "code",
      "source": [
        "word = input().upper()    # 입력 문자열 모두 대문자로 변환\n",
        "S = list(set(word))       # 문자열 알파벳 중복제거 \n",
        "\n",
        "cnt = [word.count(i) for i in S]       # 문자열의 각 알파벳의 갯수를 cnt 리스트에 담음\n",
        "\n",
        "if cnt.count(max(cnt)) > 1:  # 가장 많이 사용된 알파벳이 여러개일 때\n",
        "  print('?')   \n",
        "else:                               # 가장 많이 사용된 알파벳이 한개일 때\n",
        "  print(S[cnt.index((max(cnt)))])   # 해당 알파벳(대문자) 출력\n"
      ],
      "metadata": {
        "colab": {
          "base_uri": "https://localhost:8080/"
        },
        "id": "D3xssIxbdlGO",
        "outputId": "7c24ef54-50d4-43bb-bc64-9d2842f4377a"
      },
      "execution_count": 3,
      "outputs": [
        {
          "output_type": "stream",
          "name": "stdout",
          "text": [
            "zZa\n",
            "Z\n"
          ]
        }
      ]
    }
  ]
}