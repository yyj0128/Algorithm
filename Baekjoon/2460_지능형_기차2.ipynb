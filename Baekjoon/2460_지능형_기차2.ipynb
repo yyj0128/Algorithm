{
  "nbformat": 4,
  "nbformat_minor": 0,
  "metadata": {
    "colab": {
      "name": "2460_지능형 기차2.ipynb",
      "provenance": [],
      "collapsed_sections": [],
      "authorship_tag": "ABX9TyMpW0edGjpbwEhSKvNFNKxN",
      "include_colab_link": true
    },
    "kernelspec": {
      "name": "python3",
      "display_name": "Python 3"
    },
    "language_info": {
      "name": "python"
    }
  },
  "cells": [
    {
      "cell_type": "markdown",
      "metadata": {
        "id": "view-in-github",
        "colab_type": "text"
      },
      "source": [
        "<a href=\"https://colab.research.google.com/github/yyj0128/Algorithm/blob/main/2460_%EC%A7%80%EB%8A%A5%ED%98%95_%EA%B8%B0%EC%B0%A82.ipynb\" target=\"_parent\"><img src=\"https://colab.research.google.com/assets/colab-badge.svg\" alt=\"Open In Colab\"/></a>"
      ]
    },
    {
      "cell_type": "markdown",
      "source": [
        "## &#128204;[문제 2460. 지능형 기차2](https://www.acmicpc.net/problem/2460)\n",
        "알고리즘 분류 : 수학, 구현, 사칙연산"
      ],
      "metadata": {
        "id": "-w4Hu7uD0Bc9"
      }
    },
    {
      "cell_type": "code",
      "execution_count": 2,
      "metadata": {
        "colab": {
          "base_uri": "https://localhost:8080/"
        },
        "id": "z3kKraFWzreY",
        "outputId": "db837d3b-7d06-4d72-a7f1-775191a10c6b"
      },
      "outputs": [
        {
          "output_type": "stream",
          "name": "stdout",
          "text": [
            "0 32\n",
            "3 13\n",
            "28 25\n",
            "17 5\n",
            "21 20\n",
            "11 0\n",
            "12 12\n",
            "4 2\n",
            "0 8\n",
            "21 0\n",
            "42\n"
          ]
        }
      ],
      "source": [
        "# 0에서 탄사람수를 더하고 내린사람수를 뺀 9개의 값을 리스트에 저장해서\n",
        "# 최댓값 구하기  \n",
        "\n",
        "num = 0\n",
        "stay=[]\n",
        "for _ in range(10):\n",
        "    out_cnt, in_cnt = map(int, list(input().split()))\n",
        "    num = num + in_cnt - out_cnt\n",
        "    stay.append(num)\n",
        "\n",
        "print(max(stay))"
      ]
    }
  ]
}