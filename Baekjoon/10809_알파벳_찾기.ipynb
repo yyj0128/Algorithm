{
  "nbformat": 4,
  "nbformat_minor": 0,
  "metadata": {
    "colab": {
      "name": "10809_알파벳 찾기",
      "provenance": [],
      "collapsed_sections": [],
      "authorship_tag": "ABX9TyORH6GGIrhfb+0ZDAJX7xWK",
      "include_colab_link": true
    },
    "kernelspec": {
      "name": "python3",
      "display_name": "Python 3"
    },
    "language_info": {
      "name": "python"
    }
  },
  "cells": [
    {
      "cell_type": "markdown",
      "metadata": {
        "id": "view-in-github",
        "colab_type": "text"
      },
      "source": [
        "<a href=\"https://colab.research.google.com/github/yyj0128/Algorithm/blob/main/10809_%EC%95%8C%ED%8C%8C%EB%B2%B3_%EC%B0%BE%EA%B8%B0.ipynb\" target=\"_parent\"><img src=\"https://colab.research.google.com/assets/colab-badge.svg\" alt=\"Open In Colab\"/></a>"
      ]
    },
    {
      "cell_type": "markdown",
      "source": [
        "\n",
        "### &#128204;[문제 10809. 알파벳 찾기](https://www.acmicpc.net/problem/10809)\n",
        "\n",
        "<br>\n",
        "\n",
        "문제) 알파벳 소문자로만 이루어진 단어 S가 주어진다. 각각의 알파벳에 대해서, 단어에 포함되어 있는 경우에는 처음 등장하는 위치를, 포함되어 있지 않은 경우에는 -1을 출력하는 프로그램을 작성하시오.\n",
        "\n",
        "<br>\n",
        "\n",
        "입력) 첫째 줄에 단어 S가 주어진다. 단어의 길이는 100을 넘지 않으며, 알파벳 소문자로만 이루어져 있다.\n",
        "\n",
        "출력) 각각의 알파벳에 대해서, a가 처음 등장하는 위치, b가 처음 등장하는 위치, ... z가 처음 등장하는 위치를 공백으로 구분해서 출력한다.\n",
        "만약, 어떤 알파벳이 단어에 포함되어 있지 않다면 -1을 출력한다. 단어의 첫 번째 글자는 0번째 위치이고, 두 번째 글자는 1번째 위치이다."
      ],
      "metadata": {
        "id": "yH4WJMxpKsSi"
      }
    },
    {
      "cell_type": "code",
      "source": [
        "import string   \n",
        "\n",
        "S = input()\n",
        "\n",
        "for i in string.ascii_lowercase:    \n",
        "  print(S.find(i), end=' ')   "
      ],
      "metadata": {
        "id": "sodZDjITzbGp"
      },
      "execution_count": null,
      "outputs": []
    },
    {
      "cell_type": "markdown",
      "source": [
        "\n",
        "* find 함수 \n",
        "\n",
        " - 문자열.find(찾을문자) → 문자열에서 찾을 문자의 index를 반환 (a가 존재하지 않으면 -1 반환)\n",
        "\n",
        " - 문자열.find(찾을문자, 시작 Index, 끝 Index) → 어디서부터 어디까지 찾을지 시작 Index, 끝 Index  지정 가능\n",
        "\n"
      ],
      "metadata": {
        "id": "Kc1-aIHjDl_F"
      }
    }
  ]
}