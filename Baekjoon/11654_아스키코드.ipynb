{
  "nbformat": 4,
  "nbformat_minor": 0,
  "metadata": {
    "colab": {
      "name": "11654_아스키코드",
      "provenance": [],
      "collapsed_sections": [],
      "authorship_tag": "ABX9TyMeoCxm1NF3D7vYn2t4nS0K",
      "include_colab_link": true
    },
    "kernelspec": {
      "name": "python3",
      "display_name": "Python 3"
    },
    "language_info": {
      "name": "python"
    }
  },
  "cells": [
    {
      "cell_type": "markdown",
      "metadata": {
        "id": "view-in-github",
        "colab_type": "text"
      },
      "source": [
        "<a href=\"https://colab.research.google.com/github/yyj0128/Algorithm/blob/main/11654_%EC%95%84%EC%8A%A4%ED%82%A4%EC%BD%94%EB%93%9C.ipynb\" target=\"_parent\"><img src=\"https://colab.research.google.com/assets/colab-badge.svg\" alt=\"Open In Colab\"/></a>"
      ]
    },
    {
      "cell_type": "markdown",
      "source": [
        "\n",
        "### [문제11654. 아스키 코드](https://www.acmicpc.net/problem/11654)\n",
        "\n",
        "<br>\n",
        "\n",
        "\n",
        "문제) 알파벳 소문자, 대문자, 숫자 0-9중 하나가 주어졌을 때, 주어진 글자의 아스키 코드값을 출력하는 프로그램을 작성하시오.\n",
        "\n",
        "<br>\n",
        "\n",
        "입력) 알파벳 소문자, 대문자, 숫자 0-9 중 하나가 첫째 줄에 주어진다.\n",
        "\n",
        "\n",
        "출력) 입력으로 주어진 글자의 아스키 코드 값을 출력한다.\n"
      ],
      "metadata": {
        "id": "yH4WJMxpKsSi"
      }
    },
    {
      "cell_type": "code",
      "source": [
        "a = input()\n",
        "\n",
        "print(ord(a))  "
      ],
      "metadata": {
        "colab": {
          "base_uri": "https://localhost:8080/"
        },
        "id": "Nc1nQ-ExMGev",
        "outputId": "c2d777eb-33be-4eb4-bbfc-e40e962c37d3"
      },
      "execution_count": null,
      "outputs": [
        {
          "output_type": "stream",
          "name": "stdout",
          "text": [
            "A\n",
            "65\n"
          ]
        }
      ]
    },
    {
      "cell_type": "markdown",
      "source": [
        "* ord(문자) : 문자의 아스키 코드값을 리턴하는 함수\n",
        "* chr(아스키코드) : 아스키 코드값을 그 코드에 해당하는 문자로 출력하는 함수"
      ],
      "metadata": {
        "id": "2hpsNLcvPQYM"
      }
    }
  ]
}