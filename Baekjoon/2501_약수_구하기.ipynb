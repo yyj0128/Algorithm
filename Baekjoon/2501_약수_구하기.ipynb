{
  "nbformat": 4,
  "nbformat_minor": 0,
  "metadata": {
    "colab": {
      "name": "2501_약수 구하기.ipynb",
      "provenance": [],
      "collapsed_sections": [],
      "authorship_tag": "ABX9TyNG3x+1QI+RApJeLYNKnPe2",
      "include_colab_link": true
    },
    "kernelspec": {
      "name": "python3",
      "display_name": "Python 3"
    },
    "language_info": {
      "name": "python"
    }
  },
  "cells": [
    {
      "cell_type": "markdown",
      "metadata": {
        "id": "view-in-github",
        "colab_type": "text"
      },
      "source": [
        "<a href=\"https://colab.research.google.com/github/yyj0128/Algorithm/blob/main/2501_%EC%95%BD%EC%88%98_%EA%B5%AC%ED%95%98%EA%B8%B0.ipynb\" target=\"_parent\"><img src=\"https://colab.research.google.com/assets/colab-badge.svg\" alt=\"Open In Colab\"/></a>"
      ]
    },
    {
      "cell_type": "markdown",
      "source": [
        "\n",
        "## &#128204;[문제 2501. 약수 구하기](https://www.acmicpc.net/problem/2501)\n",
        "알고리즘 분류: 수학, 브루트 포스\n",
        "\n",
        "\n"
      ],
      "metadata": {
        "id": "-w4Hu7uD0Bc9"
      }
    },
    {
      "cell_type": "code",
      "execution_count": null,
      "metadata": {
        "colab": {
          "base_uri": "https://localhost:8080/"
        },
        "id": "z3kKraFWzreY",
        "outputId": "0e7a43f1-b1f0-4662-81af-7f4952b25027"
      },
      "outputs": [
        {
          "output_type": "stream",
          "name": "stdout",
          "text": [
            "6 3\n",
            "3\n"
          ]
        }
      ],
      "source": [
        "N, K = map(int, input().split())\n",
        "\n",
        "num=[]\n",
        "for i in range(1,N+1):\n",
        "  if (N % i == 0):    \n",
        "    num.append(i) \n",
        "\n",
        "if len(num) >= K:  \n",
        "  print(num[K-1]) \n",
        "else:\n",
        "  print(0)"
      ]
    }
  ]
}