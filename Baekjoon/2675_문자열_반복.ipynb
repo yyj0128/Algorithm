{
  "nbformat": 4,
  "nbformat_minor": 0,
  "metadata": {
    "colab": {
      "name": "2675_문자열 반복",
      "provenance": [],
      "collapsed_sections": [],
      "authorship_tag": "ABX9TyMjXXZ9dE/cPU/YGVETOiTS",
      "include_colab_link": true
    },
    "kernelspec": {
      "name": "python3",
      "display_name": "Python 3"
    },
    "language_info": {
      "name": "python"
    }
  },
  "cells": [
    {
      "cell_type": "markdown",
      "metadata": {
        "id": "view-in-github",
        "colab_type": "text"
      },
      "source": [
        "<a href=\"https://colab.research.google.com/github/yyj0128/Algorithm/blob/main/2675_%EB%AC%B8%EC%9E%90%EC%97%B4_%EB%B0%98%EB%B3%B5.ipynb\" target=\"_parent\"><img src=\"https://colab.research.google.com/assets/colab-badge.svg\" alt=\"Open In Colab\"/></a>"
      ]
    },
    {
      "cell_type": "markdown",
      "source": [
        "\n",
        "### &#128204;[문제2675. 문자열 반복](https://www.acmicpc.net/problem/2675)\n",
        "\n",
        "<br>\n",
        "\n",
        "\n",
        "\n",
        "문제) 문자열 S를 입력받은 후에, 각 문자를 R번 반복해 새 문자열 P를 만든 후 출력하는 프로그램을 작성하시오. 즉, 첫 번째 문자를 R번 반복하고, 두 번째 문자를 R번 반복하는 식으로 P를 만들면 된다. S에는 QR Code \"alphanumeric\" 문자만 들어있다.\n",
        "\n",
        "QR Code \"alphanumeric\" 문자는 0123456789ABCDEFGHIJKLMNOPQRSTUVWXYZ\\$%*+-./: 이다.\n",
        "\n",
        "\n",
        "<br>\n",
        "\n",
        "입력) 첫째 줄에 테스트 케이스의 개수 T(1 ≤ T ≤ 1,000)가 주어진다. 각 테스트 케이스는 반복 횟수 R(1 ≤ R ≤ 8), 문자열 S가 공백으로 구분되어 주어진다. S의 길이는 적어도 1이며, 20글자를 넘지 않는다. \n",
        "\n",
        "\n",
        "출력) 각 테스트 케이스에 대해 P를 출력한다."
      ],
      "metadata": {
        "id": "yH4WJMxpKsSi"
      }
    },
    {
      "cell_type": "code",
      "source": [
        "T = int(input())   # 테스트케이스의 개수\n",
        "\n",
        "for _ in range(T):\n",
        "  R, S = input().split()           # 반복횟수, 문자열 입력\n",
        "  for i in range(len(S)):   \n",
        "    print(S[i] * int(R), end='')   # end='' -> 줄바꿈과 공백 없이 붙여서 출력 \n",
        "  print()                          # 문자열 끝까지 돌면 줄바꿈"
      ],
      "metadata": {
        "id": "sodZDjITzbGp"
      },
      "execution_count": null,
      "outputs": []
    }
  ]
}