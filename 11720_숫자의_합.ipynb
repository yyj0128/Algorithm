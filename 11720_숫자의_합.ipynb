{
  "nbformat": 4,
  "nbformat_minor": 0,
  "metadata": {
    "colab": {
      "name": "11720_숫자의 합",
      "provenance": [],
      "collapsed_sections": [],
      "authorship_tag": "ABX9TyNlZXXuMVvugZi1l6Jf4CZv",
      "include_colab_link": true
    },
    "kernelspec": {
      "name": "python3",
      "display_name": "Python 3"
    },
    "language_info": {
      "name": "python"
    }
  },
  "cells": [
    {
      "cell_type": "markdown",
      "metadata": {
        "id": "view-in-github",
        "colab_type": "text"
      },
      "source": [
        "<a href=\"https://colab.research.google.com/github/yyj0128/Algorithm/blob/main/11720_%EC%88%AB%EC%9E%90%EC%9D%98_%ED%95%A9.ipynb\" target=\"_parent\"><img src=\"https://colab.research.google.com/assets/colab-badge.svg\" alt=\"Open In Colab\"/></a>"
      ]
    },
    {
      "cell_type": "markdown",
      "source": [
        "\n",
        "### &#128204; [문제11720. 숫자의 합](https://www.acmicpc.net/problem/11720)\n",
        "\n",
        "문제) N개의 숫자가 공백 없이 쓰여있다. 이 숫자를 모두 합해서 출력하는 프로그램을 작성하시오.\n",
        "\n",
        "<br>\n",
        "\n",
        "입력) 첫째 줄에 숫자의 개수 N (1 ≤ N ≤ 100)이 주어진다. 둘째 줄에 숫자 N개가 공백없이 주어진다.\n",
        "\n",
        "\n",
        "출력) 입력으로 주어진 숫자 N개의 합을 출력한다."
      ],
      "metadata": {
        "id": "yH4WJMxpKsSi"
      }
    },
    {
      "cell_type": "code",
      "source": [
        "N = int(input())\n",
        "num = input()\n",
        "\n",
        "sum=0\n",
        "for i in range(N):\n",
        "  sum += int(num[i])\n",
        "\n",
        "print(sum)"
      ],
      "metadata": {
        "colab": {
          "base_uri": "https://localhost:8080/"
        },
        "id": "Nc1nQ-ExMGev",
        "outputId": "b193b837-7c42-4d5e-f881-a8ad864e6b1d"
      },
      "execution_count": 1,
      "outputs": [
        {
          "output_type": "stream",
          "name": "stdout",
          "text": [
            "5\n",
            "54321\n",
            "15\n"
          ]
        }
      ]
    }
  ]
}